{
  "cells": [
    {
      "cell_type": "code",
      "execution_count": 1,
      "metadata": {
        "id": "gsDFP2w0eDfI"
      },
      "outputs": [],
      "source": [
        "#Importing Needed Libraries\n",
        "import pandas as pandas\n",
        "import numpy as numpy\n",
        "import matplotlib.pyplot as plt\n"
      ]
    },
    {
      "cell_type": "code",
      "execution_count": 4,
      "metadata": {
        "id": "S6iNGp0_eDfL"
      },
      "outputs": [],
      "source": [
        "df=pandas.read_csv(\"/Salaries.csv\") #Read the dataset\n"
      ]
    },
    {
      "cell_type": "markdown",
      "metadata": {
        "id": "h2RTJzLZeDfM"
      },
      "source": [
        "PART ONE: Basic Data Exploration"
      ]
    },
    {
      "cell_type": "code",
      "execution_count": 5,
      "metadata": {
        "colab": {
          "base_uri": "https://localhost:8080/"
        },
        "id": "8waI41p2eDfO",
        "outputId": "0ecfe76d-0536-4520-cb7d-c7f3205d8e82"
      },
      "outputs": [
        {
          "output_type": "stream",
          "name": "stdout",
          "text": [
            "Number of rows in the dataset:  78778\n",
            "Number of columns in the dataset:  13\n",
            "Id :  int64\n",
            "EmployeeName :  object\n",
            "JobTitle :  object\n",
            "BasePay :  float64\n",
            "OvertimePay :  float64\n",
            "OtherPay :  float64\n",
            "Benefits :  float64\n",
            "TotalPay :  float64\n",
            "TotalPayBenefits :  float64\n",
            "Year :  float64\n",
            "Notes :  float64\n",
            "Agency :  object\n",
            "Status :  float64\n",
            "\n",
            "Missing values in each column: \n",
            "Id :  0\n",
            "EmployeeName :  0\n",
            "JobTitle :  0\n",
            "BasePay :  1\n",
            "OvertimePay :  1\n",
            "OtherPay :  1\n",
            "Benefits :  36160\n",
            "TotalPay :  1\n",
            "TotalPayBenefits :  1\n",
            "Year :  1\n",
            "Notes :  78778\n",
            "Agency :  1\n",
            "Status :  78778\n",
            "Totale number of missing values\n"
          ]
        },
        {
          "output_type": "execute_result",
          "data": {
            "text/plain": [
              "193723"
            ]
          },
          "metadata": {},
          "execution_count": 5
        }
      ],
      "source": [
        "#Storing the number rows and columns in 'Salary' dataset\n",
        "numOfRows,numOfColumns=df.shape\n",
        "print(\"Number of rows in the dataset: \",numOfRows)\n",
        "print(\"Number of columns in the dataset: \",numOfColumns)\n",
        "\n",
        "#Storing names of each column in the dataset\n",
        "col_names=df.columns.tolist()\n",
        "\n",
        "#Printing the data type of each column\n",
        "for i in col_names:\n",
        "    print(i,\": \",df[i].dtype)\n",
        "\n",
        "#Checking for missing values in each column and then get the sum of each of them by using sum() function\n",
        "null_values=df.isnull().sum()\n",
        "print()\n",
        "print(\"Missing values in each column: \")\n",
        "for x,y in null_values.items():\n",
        "    print(x,\": \",y)\n",
        "\n",
        "#The totale number of missing values in the entire dataset\n",
        "print(\"Totale number of missing values\")\n",
        "df.isnull().sum().sum()\n",
        "\n"
      ]
    },
    {
      "cell_type": "markdown",
      "metadata": {
        "id": "r8XfoMc4eDfO"
      },
      "source": [
        "PART TWO:Descriptive Statistics"
      ]
    },
    {
      "cell_type": "code",
      "execution_count": 6,
      "metadata": {
        "colab": {
          "base_uri": "https://localhost:8080/"
        },
        "id": "33EW4ElmeDfP",
        "outputId": "415547b3-6ea9-4b2d-d8a2-75d28ac19f89"
      },
      "outputs": [
        {
          "output_type": "stream",
          "name": "stdout",
          "text": [
            "The Avarge Salary is:  79826.28374677889\n",
            "The Middle Salary value is:  73377.33\n",
            "The Most Frequent Salary is:  0    123290.7\n",
            "Name: TotalPay, dtype: float64\n",
            "Minimum Value:  0.0\n",
            "Maximum value:  567595.43\n",
            "Range of Salaries:  567595.43\n",
            "Standerd Divation of Salaries:  53291.31678410497\n"
          ]
        }
      ],
      "source": [
        "#Calculating Basic Statstics for the 'TotalPay' Atrribute which is the 'Salary'\n",
        "\n",
        "\n",
        "#Mean\n",
        "salary_mean=df['TotalPay'].mean()\n",
        "print(\"The Avarge Salary is: \",salary_mean)\n",
        "\n",
        "#Medain\n",
        "salary_median=df['TotalPay'].median()\n",
        "print(\"The Middle Salary value is: \",salary_median)\n",
        "\n",
        "#Mode\n",
        "salary_mode=df['TotalPay'].mode()\n",
        "print(\"The Most Frequent Salary is: \",salary_mode)\n",
        "\n",
        "#Minimum And Maximum Values of Salary\n",
        "min_salary=df['TotalPay'].min()\n",
        "max_salary=df['TotalPay'].max()\n",
        "print(\"Minimum Value: \",min_salary)\n",
        "print(\"Maximum value: \",max_salary)\n",
        "\n",
        "#The Range of the Salaries\n",
        "salary_range=max_salary-min_salary\n",
        "print(\"Range of Salaries: \",salary_range)\n",
        "\n",
        "#Standerd Divation of Salary Distribution\n",
        "salary_std=df['TotalPay'].std()\n",
        "print(\"Standerd Divation of Salaries: \",salary_std)\n"
      ]
    },
    {
      "cell_type": "markdown",
      "metadata": {
        "id": "0-pDphsbeDfP"
      },
      "source": [
        "PART THREE: Data Cleaning\n",
        "One of the opreations of Data Cleaning is to handle the missing value\n",
        "The Missing values will be handled by replacing them by the mean or medain values in an attribute in the dataset\n",
        "if the distribution was Skewed -> the median will be used to replace the missing values\n",
        "else-> if the distribution was Normally distributed then mean value will be used\n",
        "if all data points in an attribute were null values the attribute will be dropped\n",
        "\n",
        "WHY this Method for handling the missing values is used ??\n",
        " Median or Mean values specifies the avarge value in each atrribute;Then there is a big chance that the missing values be close to these two values"
      ]
    },
    {
      "cell_type": "code",
      "execution_count": 7,
      "metadata": {
        "colab": {
          "base_uri": "https://localhost:8080/",
          "height": 462
        },
        "id": "zvhgJHVceDfQ",
        "outputId": "59a6e6dc-d16e-41e5-f13a-3e800d59318c"
      },
      "outputs": [
        {
          "output_type": "stream",
          "name": "stderr",
          "text": [
            "<ipython-input-7-9a110529043f>:8: FutureWarning: Calling Series.skew with numeric_only=True and dtype object will raise a TypeError in the future\n",
            "  skeweness=df2[x].skew(numeric_only=True)   #Finding the skewness for each attribute\n"
          ]
        },
        {
          "output_type": "error",
          "ename": "NotImplementedError",
          "evalue": "Series.skew does not implement numeric_only.",
          "traceback": [
            "\u001b[0;31m---------------------------------------------------------------------------\u001b[0m",
            "\u001b[0;31mNotImplementedError\u001b[0m                       Traceback (most recent call last)",
            "\u001b[0;32m<ipython-input-7-9a110529043f>\u001b[0m in \u001b[0;36m<cell line: 2>\u001b[0;34m()\u001b[0m\n\u001b[1;32m      6\u001b[0m         \u001b[0mdf2\u001b[0m\u001b[0;34m.\u001b[0m\u001b[0mdrop\u001b[0m\u001b[0;34m(\u001b[0m\u001b[0mx\u001b[0m\u001b[0;34m,\u001b[0m\u001b[0maxis\u001b[0m\u001b[0;34m=\u001b[0m\u001b[0;36m1\u001b[0m\u001b[0;34m,\u001b[0m\u001b[0minplace\u001b[0m\u001b[0;34m=\u001b[0m\u001b[0;32mTrue\u001b[0m\u001b[0;34m)\u001b[0m\u001b[0;34m\u001b[0m\u001b[0;34m\u001b[0m\u001b[0m\n\u001b[1;32m      7\u001b[0m     \u001b[0;32melse\u001b[0m\u001b[0;34m:\u001b[0m\u001b[0;34m\u001b[0m\u001b[0;34m\u001b[0m\u001b[0m\n\u001b[0;32m----> 8\u001b[0;31m         \u001b[0mskeweness\u001b[0m\u001b[0;34m=\u001b[0m\u001b[0mdf2\u001b[0m\u001b[0;34m[\u001b[0m\u001b[0mx\u001b[0m\u001b[0;34m]\u001b[0m\u001b[0;34m.\u001b[0m\u001b[0mskew\u001b[0m\u001b[0;34m(\u001b[0m\u001b[0mnumeric_only\u001b[0m\u001b[0;34m=\u001b[0m\u001b[0;32mTrue\u001b[0m\u001b[0;34m)\u001b[0m   \u001b[0;31m#Finding the skewness for each attribute\u001b[0m\u001b[0;34m\u001b[0m\u001b[0;34m\u001b[0m\u001b[0m\n\u001b[0m\u001b[1;32m      9\u001b[0m \u001b[0;34m\u001b[0m\u001b[0m\n\u001b[1;32m     10\u001b[0m         \u001b[0;32mif\u001b[0m\u001b[0;34m(\u001b[0m\u001b[0mskeweness\u001b[0m\u001b[0;34m==\u001b[0m\u001b[0;36m0\u001b[0m\u001b[0;34m)\u001b[0m\u001b[0;34m:\u001b[0m   \u001b[0;31m#skewness =0 ->Normally Distributed\u001b[0m\u001b[0;34m\u001b[0m\u001b[0;34m\u001b[0m\u001b[0m\n",
            "\u001b[0;32m/usr/local/lib/python3.10/dist-packages/pandas/core/generic.py\u001b[0m in \u001b[0;36mskew\u001b[0;34m(self, axis, skipna, level, numeric_only, **kwargs)\u001b[0m\n\u001b[1;32m  11867\u001b[0m             \u001b[0;34m**\u001b[0m\u001b[0mkwargs\u001b[0m\u001b[0;34m,\u001b[0m\u001b[0;34m\u001b[0m\u001b[0;34m\u001b[0m\u001b[0m\n\u001b[1;32m  11868\u001b[0m         ):\n\u001b[0;32m> 11869\u001b[0;31m             \u001b[0;32mreturn\u001b[0m \u001b[0mNDFrame\u001b[0m\u001b[0;34m.\u001b[0m\u001b[0mskew\u001b[0m\u001b[0;34m(\u001b[0m\u001b[0mself\u001b[0m\u001b[0;34m,\u001b[0m \u001b[0maxis\u001b[0m\u001b[0;34m,\u001b[0m \u001b[0mskipna\u001b[0m\u001b[0;34m,\u001b[0m \u001b[0mlevel\u001b[0m\u001b[0;34m,\u001b[0m \u001b[0mnumeric_only\u001b[0m\u001b[0;34m,\u001b[0m \u001b[0;34m**\u001b[0m\u001b[0mkwargs\u001b[0m\u001b[0;34m)\u001b[0m\u001b[0;34m\u001b[0m\u001b[0;34m\u001b[0m\u001b[0m\n\u001b[0m\u001b[1;32m  11870\u001b[0m \u001b[0;34m\u001b[0m\u001b[0m\n\u001b[1;32m  11871\u001b[0m         \u001b[0msetattr\u001b[0m\u001b[0;34m(\u001b[0m\u001b[0mcls\u001b[0m\u001b[0;34m,\u001b[0m \u001b[0;34m\"skew\"\u001b[0m\u001b[0;34m,\u001b[0m \u001b[0mskew\u001b[0m\u001b[0;34m)\u001b[0m\u001b[0;34m\u001b[0m\u001b[0;34m\u001b[0m\u001b[0m\n",
            "\u001b[0;32m/usr/local/lib/python3.10/dist-packages/pandas/core/generic.py\u001b[0m in \u001b[0;36mskew\u001b[0;34m(self, axis, skipna, level, numeric_only, **kwargs)\u001b[0m\n\u001b[1;32m  11423\u001b[0m         \u001b[0;34m**\u001b[0m\u001b[0mkwargs\u001b[0m\u001b[0;34m,\u001b[0m\u001b[0;34m\u001b[0m\u001b[0;34m\u001b[0m\u001b[0m\n\u001b[1;32m  11424\u001b[0m     ) -> Series | float:\n\u001b[0;32m> 11425\u001b[0;31m         return self._stat_function(\n\u001b[0m\u001b[1;32m  11426\u001b[0m             \u001b[0;34m\"skew\"\u001b[0m\u001b[0;34m,\u001b[0m \u001b[0mnanops\u001b[0m\u001b[0;34m.\u001b[0m\u001b[0mnanskew\u001b[0m\u001b[0;34m,\u001b[0m \u001b[0maxis\u001b[0m\u001b[0;34m,\u001b[0m \u001b[0mskipna\u001b[0m\u001b[0;34m,\u001b[0m \u001b[0mlevel\u001b[0m\u001b[0;34m,\u001b[0m \u001b[0mnumeric_only\u001b[0m\u001b[0;34m,\u001b[0m \u001b[0;34m**\u001b[0m\u001b[0mkwargs\u001b[0m\u001b[0;34m\u001b[0m\u001b[0;34m\u001b[0m\u001b[0m\n\u001b[1;32m  11427\u001b[0m         )\n",
            "\u001b[0;32m/usr/local/lib/python3.10/dist-packages/pandas/core/generic.py\u001b[0m in \u001b[0;36m_stat_function\u001b[0;34m(self, name, func, axis, skipna, level, numeric_only, **kwargs)\u001b[0m\n\u001b[1;32m  11351\u001b[0m                 \u001b[0mname\u001b[0m\u001b[0;34m,\u001b[0m \u001b[0maxis\u001b[0m\u001b[0;34m=\u001b[0m\u001b[0maxis\u001b[0m\u001b[0;34m,\u001b[0m \u001b[0mlevel\u001b[0m\u001b[0;34m=\u001b[0m\u001b[0mlevel\u001b[0m\u001b[0;34m,\u001b[0m \u001b[0mskipna\u001b[0m\u001b[0;34m=\u001b[0m\u001b[0mskipna\u001b[0m\u001b[0;34m,\u001b[0m \u001b[0mnumeric_only\u001b[0m\u001b[0;34m=\u001b[0m\u001b[0mnumeric_only\u001b[0m\u001b[0;34m\u001b[0m\u001b[0;34m\u001b[0m\u001b[0m\n\u001b[1;32m  11352\u001b[0m             )\n\u001b[0;32m> 11353\u001b[0;31m         return self._reduce(\n\u001b[0m\u001b[1;32m  11354\u001b[0m             \u001b[0mfunc\u001b[0m\u001b[0;34m,\u001b[0m \u001b[0mname\u001b[0m\u001b[0;34m=\u001b[0m\u001b[0mname\u001b[0m\u001b[0;34m,\u001b[0m \u001b[0maxis\u001b[0m\u001b[0;34m=\u001b[0m\u001b[0maxis\u001b[0m\u001b[0;34m,\u001b[0m \u001b[0mskipna\u001b[0m\u001b[0;34m=\u001b[0m\u001b[0mskipna\u001b[0m\u001b[0;34m,\u001b[0m \u001b[0mnumeric_only\u001b[0m\u001b[0;34m=\u001b[0m\u001b[0mnumeric_only\u001b[0m\u001b[0;34m\u001b[0m\u001b[0;34m\u001b[0m\u001b[0m\n\u001b[1;32m  11355\u001b[0m         )\n",
            "\u001b[0;32m/usr/local/lib/python3.10/dist-packages/pandas/core/series.py\u001b[0m in \u001b[0;36m_reduce\u001b[0;34m(self, op, name, axis, skipna, numeric_only, filter_type, **kwds)\u001b[0m\n\u001b[1;32m   4810\u001b[0m                     \u001b[0mstacklevel\u001b[0m\u001b[0;34m=\u001b[0m\u001b[0mfind_stack_level\u001b[0m\u001b[0;34m(\u001b[0m\u001b[0;34m)\u001b[0m\u001b[0;34m,\u001b[0m\u001b[0;34m\u001b[0m\u001b[0;34m\u001b[0m\u001b[0m\n\u001b[1;32m   4811\u001b[0m                 )\n\u001b[0;32m-> 4812\u001b[0;31m                 raise NotImplementedError(\n\u001b[0m\u001b[1;32m   4813\u001b[0m                     \u001b[0;34mf\"Series.{name} does not implement {kwd_name}.\"\u001b[0m\u001b[0;34m\u001b[0m\u001b[0;34m\u001b[0m\u001b[0m\n\u001b[1;32m   4814\u001b[0m                 )\n",
            "\u001b[0;31mNotImplementedError\u001b[0m: Series.skew does not implement numeric_only."
          ]
        }
      ],
      "source": [
        "\n",
        "\n",
        "\n",
        "df2=df\n",
        "for x,y in null_values.items(): #Iterating over the attributes and the missing value associated with each one\n",
        "    if(y==0):      #no missing values->continue\n",
        "        continue\n",
        "    elif(y==numOfRows): #All data points in this attribute is = null -> drop the attribute\n",
        "        df2.drop(x,axis=1,inplace=True)\n",
        "    else:\n",
        "        skeweness=df2[x].skew(numeric_only=True)   #Finding the skewness for each attribute\n",
        "\n",
        "        if(skeweness==0):   #skewness =0 ->Normally Distributed\n",
        "             df2=df2.fillna(value=df[x].mean())   #Replace missing values by the mean\n",
        "        else:      #skewness !=0 -> Skewed Distributed\n",
        "             df2=df2.fillna(value=df[x].median())  #Replace missing values by the median\n",
        "\n",
        "df2.to_csv('Modifed.csv')\n",
        "print(\"Missing values in each column after Data Cleaning: \")\n",
        "df2.isnull().sum()\n",
        "\n"
      ]
    },
    {
      "cell_type": "markdown",
      "metadata": {
        "id": "cfJ47XiseDfQ"
      },
      "source": [
        "PART FOUR: Basic Data Visualization\n",
        "NOTE: For finding The Pie Chart Visualization,There is No such Attribute indicating for \"Department\"\n",
        "SO,SORRY"
      ]
    },
    {
      "cell_type": "code",
      "execution_count": 8,
      "metadata": {
        "colab": {
          "base_uri": "https://localhost:8080/",
          "height": 502
        },
        "id": "nZCuF9xneDfR",
        "outputId": "3df1c28e-e3ff-4da1-f43c-96e62c8b873e"
      },
      "outputs": [
        {
          "output_type": "display_data",
          "data": {
            "text/plain": [
              "<Figure size 600x400 with 1 Axes>"
            ],
            "image/png": "[encoded data removed]"
          },
          "metadata": {}
        }
      ],
      "source": [
        "np_arr=df2.values\n",
        "x_axis=np_arr[:,7]\n",
        "fig_1=plt.figure(figsize=(6,4))\n",
        "axes=fig_1.add_axes([0,0,1,1])\n",
        "axes.set_xlabel(\"TotalPay\")\n",
        "axes.set_ylabel(\"TotalPay\")\n",
        "axes.set_title(\"Salaries Distribution\")\n",
        "plt.hist(x_axis,color=\"#4CAF50\")\n",
        "plt.show()\n"
      ]
    },
    {
      "cell_type": "markdown",
      "metadata": {
        "id": "LsXwqti-eDfS"
      },
      "source": [
        "PART FIVE: Grouped Analysis\n",
        "The data set will be grouped by the 'JobTitle' attribute, and for each attribute in a group a convenient summary statstics will be founded,\n",
        "A mean for the TotalPay attribute is calculated, And compare the max mean salary and the min mean salary and\n",
        "The following information is founded:\n",
        "The Hieghst Mean Salary is the 'GENERAL MANAGER-METROPOLITAN TRANSIT AUTHORITY' with 399211.275 avarage salary\n",
        "The lowest Mean Salary is the 'IS Technician Assistant' with 0.0 avarage salary"
      ]
    },
    {
      "cell_type": "code",
      "execution_count": 9,
      "metadata": {
        "colab": {
          "base_uri": "https://localhost:8080/"
        },
        "id": "dslj_NrPeDfS",
        "outputId": "06978482-1177-439d-bafa-024f5e7c5571"
      },
      "outputs": [
        {
          "output_type": "stream",
          "name": "stdout",
          "text": [
            "The Job Title With The Hieghst Avarage is ------> GENERAL MANAGER-METROPOLITAN TRANSIT AUTHORITY\n",
            "The Maximum Avarage Salary----------------------> 399211.275\n",
            "The Job Title With The Lowest Avarage is -------> PUBLIC SAFETY COMMUNICATIONS TECHNICIAN\n",
            "The Minimum Avarage Salary----------------------> 149.51\n"
          ]
        }
      ],
      "source": [
        "grouped=df2.groupby(['JobTitle']) #Grouping the data by JobTitle\n",
        "grouped_mean=grouped['TotalPay'].mean(numeric_only=True) #Finding the mean salary for each group\n",
        "grouped_summary_stat=grouped.agg({'BasePay':['mean','median','min','max','count','std'],'OvertimePay':['mean','median','min','max','count','std']\n",
        "                          ,'OtherPay':['mean','median','min','max','count','std'],'Benefits':['mean','median','min','max','count','std']\n",
        "                          ,'TotalPay':['mean','median','min','max','count','std'],'TotalPayBenefits':['mean','median','min','max','count','std']\n",
        "                          ,'Year':['min','max','count']})\n",
        "#finding the summary statstics for each attribuete\n",
        "\n",
        "sorted_grouped_mean=grouped_mean.sort_values() # sorting the gouped mean in an ascending order to find the min_mean_salary\n",
        "min_mean_salary=[sorted_grouped_mean.index[0],sorted_grouped_mean[0]] #storing the min_mean_salary\n",
        "rsorted_grouped_mean=grouped_mean.sort_values(ascending=False) #sorting the gouped mean in an deascending order to find the max_mean_salary\n",
        "max_mean_salary=[rsorted_grouped_mean.index[0],rsorted_grouped_mean[0]] #storing the max_mean_salary\n",
        "\n",
        "print(\"The Job Title With The Hieghst Avarage is ------>\",max_mean_salary[0])\n",
        "print(\"The Maximum Avarage Salary---------------------->\",max_mean_salary[1])\n",
        "print(\"The Job Title With The Lowest Avarage is ------->\",min_mean_salary[0])\n",
        "print(\"The Minimum Avarage Salary---------------------->\",min_mean_salary[1])\n",
        "\n",
        "\n",
        "\n",
        "\n"
      ]
    },
    {
      "cell_type": "markdown",
      "metadata": {
        "id": "5pHVYTeUeDfT"
      },
      "source": [
        "PART SIX: Simple Correlation Analysis\n",
        "The Correlation will be calculated between:\n",
        "1_Salary AND OvertimePay\n",
        "2_Salary AND Benefits\n",
        "Note that the value of the correlation indicates for the following:\n",
        "1_if the correlation is greater than 0 then the two attributes are positively correlated,and the higher the value the stronger the correlation\n",
        "2_if the correlation is equal to 0 then the two attributes are independent, which mean that they are NOT correlated\n",
        "3_if the correlation is less than 0 then the two attributes are negatively correlated\n"
      ]
    },
    {
      "cell_type": "code",
      "execution_count": 10,
      "metadata": {
        "colab": {
          "base_uri": "https://localhost:8080/",
          "height": 524
        },
        "id": "MK837UyAeDfT",
        "outputId": "599dc55f-d8ee-4491-d695-23df697570bd"
      },
      "outputs": [
        {
          "output_type": "stream",
          "name": "stdout",
          "text": [
            "The Correlation value between Salary And OvertimePay:  0.5131093777439404\n",
            "\n",
            "positively correlated!!\n"
          ]
        },
        {
          "output_type": "display_data",
          "data": {
            "text/plain": [
              "<Figure size 640x480 with 1 Axes>"
            ],
            "image/png": "[encoded data removed]"
          },
          "metadata": {}
        }
      ],
      "source": [
        "sal_overtime_corr=df2['TotalPay'].corr(df2['OvertimePay']) #Calculating The Correlation\n",
        "print(\"The Correlation value between Salary And OvertimePay: \",sal_overtime_corr)\n",
        "print()\n",
        "#positively,negatively OR independent correlation\n",
        "if(sal_overtime_corr>0):\n",
        "    print(\"positively correlated!!\")\n",
        "elif(sal_overtime_corr<0):\n",
        "    print(\"negatively correlated!!\")\n",
        "else:\n",
        "    print(\"Independent Attributes\")\n",
        "\n",
        "#Plotting the realtionship between Salary And OvertimePay\n",
        "plt.title(\"Correlation Between Salary And OvertimePay\")\n",
        "plt.xlabel(\"Salaries\")\n",
        "plt.ylabel(\"OvertimePay\")\n",
        "plt.scatter(x=df2['TotalPay'],y=df2['OvertimePay'])\n",
        "plt.show()\n",
        "\n",
        "\n"
      ]
    },
    {
      "cell_type": "markdown",
      "metadata": {
        "id": "cUYT_NASeDfT"
      },
      "source": [
        "PART SEVEN: Summary of Insights\n",
        "1-The dataset consists of  (148654) Row and ( 13)columns, the datatype of the attributes is(int,float,object)\n",
        "The total number of the missing values is (334088)\n",
        "2-From the Descriptive Statstics that I made you can Notice that the Avarage Salary is (74768.321),\n",
        "the Standerd Divation of the Salaries is (50517.0052), and the range value of the salary is (568213.56)\n",
        "3-The Histogram Visualization indictes that the distribution of Salaries goes to be positively Skewed\n",
        "4-The Resulit from grouping analysis is that:\n",
        "The Hieghst Mean Salary is the 'GENERAL MANAGER-METROPOLITAN TRANSIT AUTHORITY' with 399211.275 avarage salary\n",
        "The lowest Mean Salary is the 'IS Technician Assistant' with 0.0 avarage salary\n",
        "5-After the simple correlation Analysis we can notice that the Salary and OvertimePay are positively correlated;which means that the more the 'Salary' grows the more the 'OvertimePay' atrribute grows\n"
      ]
    }
  ],
  "metadata": {
    "kernelspec": {
      "display_name": "Python 3",
      "language": "python",
      "name": "python3"
    },
    "language_info": {
      "codemirror_mode": {
        "name": "ipython",
        "version": 3
      },
      "file_extension": ".py",
      "mimetype": "text/x-python",
      "name": "python",
      "nbconvert_exporter": "python",
      "pygments_lexer": "ipython3",
      "version": "3.11.5"
    },
    "colab": {
      "provenance": []
    }
  },
  "nbformat": 4,
  "nbformat_minor": 0
}