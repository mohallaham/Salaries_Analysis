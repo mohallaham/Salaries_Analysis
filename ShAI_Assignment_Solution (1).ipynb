{
 "cells": [
  {
   "cell_type": "code",
   "execution_count": 20,
   "metadata": {},
   "outputs": [],
   "source": [
    "#Importing Needed Libraries\n",
    "import pandas as pandas\n",
    "import numpy as numpy\n",
    "import matplotlib.pyplot as plt\n"
   ]
  },
  {
   "cell_type": "code",
   "execution_count": 21,
   "metadata": {},
   "outputs": [],
   "source": [
    "df=pandas.read_csv(\"Salaries.csv\") #Read the dataset\n"
   ]
  },
  {
   "cell_type": "markdown",
   "metadata": {},
   "source": [
    "PART ONE: Basic Data Exploration "
   ]
  },
  {
   "cell_type": "code",
   "execution_count": 22,
   "metadata": {},
   "outputs": [
    {
     "name": "stdout",
     "output_type": "stream",
     "text": [
      "Number of rows in the dataset:  148654\n",
      "Number of columns in the dataset:  13\n",
      "Id :  int64\n",
      "EmployeeName :  object\n",
      "JobTitle :  object\n",
      "BasePay :  float64\n",
      "OvertimePay :  float64\n",
      "OtherPay :  float64\n",
      "Benefits :  float64\n",
      "TotalPay :  float64\n",
      "TotalPayBenefits :  float64\n",
      "Year :  int64\n",
      "Notes :  float64\n",
      "Agency :  object\n",
      "Status :  float64\n",
      "\n",
      "Missing values in each column: \n",
      "Id :  0\n",
      "EmployeeName :  0\n",
      "JobTitle :  0\n",
      "BasePay :  609\n",
      "OvertimePay :  4\n",
      "OtherPay :  4\n",
      "Benefits :  36163\n",
      "TotalPay :  0\n",
      "TotalPayBenefits :  0\n",
      "Year :  0\n",
      "Notes :  148654\n",
      "Agency :  0\n",
      "Status :  148654\n",
      "Totale number of missing values\n"
     ]
    },
    {
     "data": {
      "text/plain": [
       "334088"
      ]
     },
     "execution_count": 22,
     "metadata": {},
     "output_type": "execute_result"
    }
   ],
   "source": [
    "#Storing the number rows and columns in 'Salary' dataset \n",
    "numOfRows,numOfColumns=df.shape\n",
    "print(\"Number of rows in the dataset: \",numOfRows)\n",
    "print(\"Number of columns in the dataset: \",numOfColumns)\n",
    "\n",
    "#Storing names of each column in the dataset \n",
    "col_names=df.columns.tolist()\n",
    "\n",
    "#Printing the data type of each column \n",
    "for i in col_names:\n",
    "    print(i,\": \",df[i].dtype)\n",
    "\n",
    "#Checking for missing values in each column and then get the sum of each of them by using sum() function\n",
    "null_values=df.isnull().sum()\n",
    "print()\n",
    "print(\"Missing values in each column: \")\n",
    "for x,y in null_values.items():\n",
    "    print(x,\": \",y)\n",
    "\n",
    "#The totale number of missing values in the entire dataset \n",
    "print(\"Totale number of missing values\")\n",
    "df.isnull().sum().sum()\n",
    "\n"
   ]
  },
  {
   "cell_type": "markdown",
   "metadata": {},
   "source": [
    "PART TWO:Descriptive Statistics"
   ]
  },
  {
   "cell_type": "code",
   "execution_count": 23,
   "metadata": {},
   "outputs": [
    {
     "name": "stdout",
     "output_type": "stream",
     "text": [
      "The Avarge Salary is:  74768.32197169267\n",
      "The Middle Salary value is:  71426.60999999999\n",
      "The Most Frequent Salary is:  0    0.0\n",
      "Name: TotalPay, dtype: float64\n",
      "Minimum Value:  -618.13\n",
      "Maximum value:  567595.43\n",
      "Range of Salaries:  568213.56\n",
      "Standerd Divation of Salaries:  50517.005273949944\n"
     ]
    }
   ],
   "source": [
    "#Calculating Basic Statstics for the 'TotalPay' Atrribute which is the 'Salary'\n",
    "\n",
    "\n",
    "#Mean\n",
    "salary_mean=df['TotalPay'].mean()\n",
    "print(\"The Avarge Salary is: \",salary_mean)\n",
    "\n",
    "#Medain\n",
    "salary_median=df['TotalPay'].median()\n",
    "print(\"The Middle Salary value is: \",salary_median)\n",
    "\n",
    "#Mode\n",
    "salary_mode=df['TotalPay'].mode()\n",
    "print(\"The Most Frequent Salary is: \",salary_mode)\n",
    "\n",
    "#Minimum And Maximum Values of Salary\n",
    "min_salary=df['TotalPay'].min()\n",
    "max_salary=df['TotalPay'].max()\n",
    "print(\"Minimum Value: \",min_salary)\n",
    "print(\"Maximum value: \",max_salary)\n",
    "\n",
    "#The Range of the Salaries \n",
    "salary_range=max_salary-min_salary\n",
    "print(\"Range of Salaries: \",salary_range)\n",
    "\n",
    "#Standerd Divation of Salary Distribution \n",
    "salary_std=df['TotalPay'].std()\n",
    "print(\"Standerd Divation of Salaries: \",salary_std)\n"
   ]
  },
  {
   "cell_type": "markdown",
   "metadata": {},
   "source": [
    "PART THREE: Data Cleaning\n",
    "One of the opreations of Data Cleaning is to handle the missing value\n",
    "The Missing values will be handled by replacing them by the mean or medain values in an attribute in the dataset\n",
    "if the distribution was Skewed -> the median will be used to replace the missing values\n",
    "else-> if the distribution was Normally distributed then mean value will be used\n",
    "if all data points in an attribute were null values the attribute will be dropped \n",
    "\n",
    "WHY this Method for handling the missing values is used ??\n",
    " Median or Mean values specifies the avarge value in each atrribute;Then there is a big chance that the missing values be close to these two values "
   ]
  },
  {
   "cell_type": "code",
   "execution_count": 24,
   "metadata": {},
   "outputs": [
    {
     "name": "stdout",
     "output_type": "stream",
     "text": [
      "Missing values in each column after Data Cleaning: \n"
     ]
    },
    {
     "data": {
      "text/plain": [
       "Id                  0\n",
       "EmployeeName        0\n",
       "JobTitle            0\n",
       "BasePay             0\n",
       "OvertimePay         0\n",
       "OtherPay            0\n",
       "Benefits            0\n",
       "TotalPay            0\n",
       "TotalPayBenefits    0\n",
       "Year                0\n",
       "Agency              0\n",
       "dtype: int64"
      ]
     },
     "execution_count": 24,
     "metadata": {},
     "output_type": "execute_result"
    }
   ],
   "source": [
    "\n",
    "\n",
    "\n",
    "df2=df\n",
    "for x,y in null_values.items(): #Iterating over the attributes and the missing value associated with each one\n",
    "    if(y==0):      #no missing values->continue\n",
    "        continue   \n",
    "    elif(y==numOfRows): #All data points in this attribute is = null -> drop the attribute \n",
    "        df2.drop(x,axis=1,inplace=True)\n",
    "    else:\n",
    "        skeweness=df2[x].skew(numeric_only=True)   #Finding the skewness for each attribute\n",
    "      \n",
    "        if(skeweness==0):   #skewness =0 ->Normally Distributed   \n",
    "             df2=df2.fillna(value=df[x].mean())   #Replace missing values by the mean\n",
    "        else:      #skewness !=0 -> Skewed Distributed \n",
    "             df2=df2.fillna(value=df[x].median())  #Replace missing values by the median\n",
    "\n",
    "df2.to_csv('Modifed.csv')\n",
    "print(\"Missing values in each column after Data Cleaning: \")\n",
    "df2.isnull().sum()\n",
    "\n"
   ]
  },
  {
   "cell_type": "markdown",
   "metadata": {},
   "source": [
    "PART FOUR: Basic Data Visualization \n",
    "NOTE: For finding The Pie Chart Visualization,There is No such Attribute indicating for \"Department\"\n",
    "SO,SORRY "
   ]
  },
  {
   "cell_type": "code",
   "execution_count": 25,
   "metadata": {},
   "outputs": [
    {
     "data": {
      "image/png": "[encoded data removed]",
      "text/plain": [
       "<Figure size 600x400 with 1 Axes>"
      ]
     },
     "metadata": {},
     "output_type": "display_data"
    }
   ],
   "source": [
    "np_arr=df2.values\n",
    "x_axis=np_arr[:,7]\n",
    "fig_1=plt.figure(figsize=(6,4))\n",
    "axes=fig_1.add_axes([0,0,1,1])\n",
    "axes.set_xlabel(\"TotalPay\")\n",
    "axes.set_ylabel(\"TotalPay\")\n",
    "axes.set_title(\"Salaries Distribution\")\n",
    "plt.hist(x_axis,color=\"#4CAF50\")\n",
    "plt.show()\n"
   ]
  },
  {
   "cell_type": "markdown",
   "metadata": {},
   "source": [
    "PART FIVE: Grouped Analysis\n",
    "The data set will be grouped by the 'JobTitle' attribute, and for each attribute in a group a convenient summary statstics will be founded, \n",
    "A mean for the TotalPay attribute is calculated, And compare the max mean salary and the min mean salary and \n",
    "The following information is founded:\n",
    "The Hieghst Mean Salary is the 'GENERAL MANAGER-METROPOLITAN TRANSIT AUTHORITY' with 399211.275 avarage salary\n",
    "The lowest Mean Salary is the 'IS Technician Assistant' with 0.0 avarage salary"
   ]
  },
  {
   "cell_type": "code",
   "execution_count": 26,
   "metadata": {},
   "outputs": [
    {
     "name": "stdout",
     "output_type": "stream",
     "text": [
      "The Job Title With The Hieghst Avarage is ------> GENERAL MANAGER-METROPOLITAN TRANSIT AUTHORITY\n",
      "The Maximum Avarage Salary----------------------> 399211.275\n",
      "The Job Title With The Lowest Avarage is -------> IS Technician Assistant\n",
      "The Minimum Avarage Salary----------------------> 0.0\n"
     ]
    },
    {
     "name": "stderr",
     "output_type": "stream",
     "text": [
      "C:\\Users\\user\\AppData\\Local\\Temp\\ipykernel_5460\\3649340140.py:10: FutureWarning: Series.__getitem__ treating keys as positions is deprecated. In a future version, integer keys will always be treated as labels (consistent with DataFrame behavior). To access a value by position, use `ser.iloc[pos]`\n",
      "  min_mean_salary=[sorted_grouped_mean.index[0],sorted_grouped_mean[0]] #storing the min_mean_salary\n",
      "C:\\Users\\user\\AppData\\Local\\Temp\\ipykernel_5460\\3649340140.py:12: FutureWarning: Series.__getitem__ treating keys as positions is deprecated. In a future version, integer keys will always be treated as labels (consistent with DataFrame behavior). To access a value by position, use `ser.iloc[pos]`\n",
      "  max_mean_salary=[rsorted_grouped_mean.index[0],rsorted_grouped_mean[0]] #storing the max_mean_salary\n"
     ]
    }
   ],
   "source": [
    "grouped=df2.groupby(['JobTitle']) #Grouping the data by JobTitle\n",
    "grouped_mean=grouped['TotalPay'].mean(numeric_only=True) #Finding the mean salary for each group \n",
    "grouped_summary_stat=grouped.agg({'BasePay':['mean','median','min','max','count','std'],'OvertimePay':['mean','median','min','max','count','std']\n",
    "                          ,'OtherPay':['mean','median','min','max','count','std'],'Benefits':['mean','median','min','max','count','std']\n",
    "                          ,'TotalPay':['mean','median','min','max','count','std'],'TotalPayBenefits':['mean','median','min','max','count','std']\n",
    "                          ,'Year':['min','max','count']})\n",
    "#finding the summary statstics for each attribuete\n",
    "\n",
    "sorted_grouped_mean=grouped_mean.sort_values() # sorting the gouped mean in an ascending order to find the min_mean_salary\n",
    "min_mean_salary=[sorted_grouped_mean.index[0],sorted_grouped_mean[0]] #storing the min_mean_salary\n",
    "rsorted_grouped_mean=grouped_mean.sort_values(ascending=False) #sorting the gouped mean in an deascending order to find the max_mean_salary\n",
    "max_mean_salary=[rsorted_grouped_mean.index[0],rsorted_grouped_mean[0]] #storing the max_mean_salary\n",
    "\n",
    "print(\"The Job Title With The Hieghst Avarage is ------>\",max_mean_salary[0])\n",
    "print(\"The Maximum Avarage Salary---------------------->\",max_mean_salary[1])\n",
    "print(\"The Job Title With The Lowest Avarage is ------->\",min_mean_salary[0])\n",
    "print(\"The Minimum Avarage Salary---------------------->\",min_mean_salary[1])\n",
    "\n",
    "\n",
    "\n",
    "\n"
   ]
  },
  {
   "cell_type": "markdown",
   "metadata": {},
   "source": [
    "PART SIX: Simple Correlation Analysis\n",
    "The Correlation will be calculated between:\n",
    "1_Salary AND OvertimePay\n",
    "2_Salary AND Benefits\n",
    "Note that the value of the correlation indicates for the following:\n",
    "1_if the correlation is greater than 0 then the two attributes are positively correlated,and the higher the value the stronger the correlation \n",
    "2_if the correlation is equal to 0 then the two attributes are independent, which mean that they are NOT correlated\n",
    "3_if the correlation is less than 0 then the two attributes are negatively correlated \n"
   ]
  },
  {
   "cell_type": "code",
   "execution_count": 27,
   "metadata": {},
   "outputs": [
    {
     "name": "stdout",
     "output_type": "stream",
     "text": [
      "The Correlation value between Salary And OvertimePay:  0.5044497509383306\n",
      "\n",
      "positively correlated!!\n"
     ]
    },
    {
     "data": {
      "image/png": "[encoded data removed]",
      "text/plain": [
       "<Figure size 640x480 with 1 Axes>"
      ]
     },
     "metadata": {},
     "output_type": "display_data"
    }
   ],
   "source": [
    "sal_overtime_corr=df2['TotalPay'].corr(df2['OvertimePay']) #Calculating The Correlation \n",
    "print(\"The Correlation value between Salary And OvertimePay: \",sal_overtime_corr)\n",
    "print()\n",
    "#positively,negatively OR independent correlation\n",
    "if(sal_overtime_corr>0):\n",
    "    print(\"positively correlated!!\")\n",
    "elif(sal_overtime_corr<0):\n",
    "    print(\"negatively correlated!!\") \n",
    "else:\n",
    "    print(\"Independent Attributes\")  \n",
    "    \n",
    "#Plotting the realtionship between Salary And OvertimePay \n",
    "plt.title(\"Correlation Between Salary And OvertimePay\")\n",
    "plt.xlabel(\"Salaries\")\n",
    "plt.ylabel(\"OvertimePay\")\n",
    "plt.scatter(x=df2['TotalPay'],y=df2['OvertimePay'])\n",
    "plt.show()\n",
    "\n",
    "\n"
   ]
  },
  {
   "cell_type": "markdown",
   "metadata": {},
   "source": [
    "PART SEVEN: Summary of Insights\n",
    "1-The dataset consists of  (148654) Row and ( 13)columns, the datatype of the attributes is(int,float,object)\n",
    "The total number of the missing values is (334088)\n",
    "2-From the Descriptive Statstics that I made you can Notice that the Avarage Salary is (74768.321),\n",
    "the Standerd Divation of the Salaries is (50517.0052), and the range value of the salary is (568213.56)\n",
    "3-The Histogram Visualization indictes that the distribution of Salaries goes to be positively Skewed \n",
    "4-The Resulit from grouping analysis is that: \n",
    "The Hieghst Mean Salary is the 'GENERAL MANAGER-METROPOLITAN TRANSIT AUTHORITY' with 399211.275 avarage salary\n",
    "The lowest Mean Salary is the 'IS Technician Assistant' with 0.0 avarage salary\n",
    "5-After the simple correlation Analysis we can notice that the Salary and OvertimePay are positively correlated;which means that the more the 'Salary' grows the more the 'OvertimePay' atrribute grows\n"
   ]
  }
 ],
 "metadata": {
  "kernelspec": {
   "display_name": "Python 3 (ipykernel)",
   "language": "python",
   "name": "python3"
  },
  "language_info": {
   "codemirror_mode": {
    "name": "ipython",
    "version": 3
   },
   "file_extension": ".py",
   "mimetype": "text/x-python",
   "name": "python",
   "nbconvert_exporter": "python",
   "pygments_lexer": "ipython3",
   "version": "3.11.7"
  }
 },
 "nbformat": 4,
 "nbformat_minor": 4
}
